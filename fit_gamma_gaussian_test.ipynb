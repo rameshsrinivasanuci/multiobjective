{
 "cells": [
  {
   "cell_type": "code",
   "execution_count": 1,
   "id": "43563224",
   "metadata": {},
   "outputs": [],
   "source": [
    "import numpy as np\n",
    "from scipy.stats import norm, gamma\n",
    "import matplotlib.pyplot as plt\n",
    "#from gamma_copula_dynamic_y_markov_window import fit_y_markov_model, conditional_density_given_Y, sample_given_Y\n",
    "#from gamma_copula_dynamic_simple import fit_gamma_marginals, transform_to_z, estimate_covariance\n"
   ]
  },
  {
   "cell_type": "code",
   "execution_count": 2,
   "id": "d533d352",
   "metadata": {},
   "outputs": [],
   "source": [
    "def simulate_iid_gamma_gaussian(K,N, d, alpha, beta, R):\n",
    "    \"\"\"K : number of samples \n",
    "       N : number of items in a knapsack\n",
    "       d : number of objectives  \n",
    "       alpha: alpha values for gamma of length d\n",
    "       beta: beta values for gamma of length d \n",
    "       R: d x d correlation matrix \"\"\"\n",
    "    L = np.linalg.cholesky(R)\n",
    "    X_list = []\n",
    "    for k in range(K):\n",
    "        U = norm.cdf(np.random.randn(N, d) @ L.T)\n",
    "        X = np.zeros(np.shape(U))\n",
    "        for i in range(d):\n",
    "            X[:, i] = gamma.ppf(U[:, i], a=alpha[i], scale=1.0 / beta[i])  # rate = 1/scale\n",
    "        X_list.append(X)\n",
    "    return X_list\n"
   ]
  },
  {
   "cell_type": "code",
   "execution_count": 3,
   "id": "621531cb",
   "metadata": {},
   "outputs": [],
   "source": [
    "def fit_gamma_marginals(X_list):\n",
    "    X_stack = np.concatenate(X_list, axis=0)\n",
    "    alpha = np.zeros(X_stack.shape[1])\n",
    "    beta = np.zeros(X_stack.shape[1])\n",
    "    for i in range(X_stack.shape[1]):\n",
    "        a, loc, scale = gamma.fit(X_stack[:, i], floc=0.0)\n",
    "        alpha[i] = a\n",
    "        beta[i] = 1.0 / scale  # rate = 1/scale\n",
    "    return alpha, beta\n",
    "\n"
   ]
  },
  {
   "cell_type": "code",
   "execution_count": 4,
   "id": "e5bb1b8d",
   "metadata": {},
   "outputs": [],
   "source": [
    "def transform_to_z(X, alpha, beta):\n",
    "    n_samples, d = X.shape\n",
    "    scales = 1.0 / beta\n",
    "    U = np.zeros_like(X, dtype=float)\n",
    "    for j in range(d):\n",
    "        U[:, j] = gamma.cdf(X[:, j], a=alpha[j], scale=scales[j])\n",
    "    U = np.clip(U, 1e-12, 1 - 1e-12)\n",
    "    Z = np.zeros_like(U, dtype=float)\n",
    "    for j in range(d):\n",
    "        Z[:, j] = norm.ppf(U[:, j])\n",
    "    return Z\n"
   ]
  },
  {
   "cell_type": "code",
   "execution_count": 5,
   "id": "e050c379",
   "metadata": {},
   "outputs": [],
   "source": [
    "def estimate_covariance(Z_list):\n",
    "    \"\"\"\n",
    "    Estimate the (N*d x N*d) covariance and correlation.\n",
    "    \"\"\"\n",
    "    Z_stacked = np.vstack([Z.ravel() for Z in Z_list])\n",
    "    sigma = np.cov(Z_stacked, rowvar=False)\n",
    "    R = np.corrcoef(Z_stacked, rowvar=False)\n",
    "    \n",
    "    return sigma, R"
   ]
  },
  {
   "cell_type": "code",
   "execution_count": 14,
   "id": "f23b9918",
   "metadata": {},
   "outputs": [
    {
     "name": "stdout",
     "output_type": "stream",
     "text": [
      "[[1.         0.37322582]\n",
      " [0.37322582 1.        ]]\n",
      "[3.15291868 5.01244767]\n",
      "[2.11272872 1.18215583]\n",
      "[[ 1.          0.37322582  0.01211136 -0.03246858]\n",
      " [ 0.37322582  1.          0.10524415  0.10483719]\n",
      " [ 0.01211136  0.10524415  1.          0.32982334]\n",
      " [-0.03246858  0.10483719  0.32982334  1.        ]]\n"
     ]
    }
   ],
   "source": [
    "np.random.seed(42)\n",
    "K, N, d = 200, 8, 2\n",
    "alpha_true = np.array([3.0, 5.0])\n",
    "beta_true  = np.array([2.0, 1.2])\n",
    "R_true = np.array([[1.0, 0.4],\n",
    "                   [0.4, 1.0]])\n",
    "\n",
    "X_list = simulate_iid_gamma_gaussian(K, N, d, alpha_true, beta_true, R_true)\n",
    "alpha_hat, beta_hat = fit_gamma_marginals(X_list)\n",
    "Z_list = list()\n",
    "for X in X_list:\n",
    "    Z_trial = transform_to_z(X, alpha_hat, beta_hat)\n",
    "    Z_list.append(Z_trial)\n",
    "Sigma, R = estimate_covariance(Z_list)\n",
    "R_hat = R[0:d,0:d]\n",
    "print(R_hat)\n",
    "print(alpha_hat)\n",
    "print(beta_hat)\n",
    "print(R[0:2*d,0:2*d])\n"
   ]
  },
  {
   "cell_type": "code",
   "execution_count": 12,
   "id": "e3d13c67",
   "metadata": {},
   "outputs": [
    {
     "name": "stdout",
     "output_type": "stream",
     "text": [
      "[[ 1.          0.42028543 -0.31769038]\n",
      " [ 0.42028543  1.          0.19065613]\n",
      " [-0.31769038  0.19065613  1.        ]]\n",
      "[2.97655614 4.95932924 3.99420914]\n",
      "[1.99045212 1.18767201 0.69557792]\n",
      "[[ 1.          0.38400755 -0.32309791]\n",
      " [ 0.38400755  1.          0.19932009]\n",
      " [-0.32309791  0.19932009  1.        ]]\n"
     ]
    }
   ],
   "source": [
    "np.random.seed(42)\n",
    "K, N, d = 1000, 8, 3\n",
    "alpha_true = np.array([3.0, 5.0, 4.0])\n",
    "beta_true  = np.array([2.0, 1.2, 0.7])\n",
    "R_true = np.array([[1.0, 0.4, -0.3],\n",
    "                   [0.4, 1.0, 0.2], \n",
    "                   [-0.3, 0.2, 1]])\n",
    "\n",
    "X_list = simulate_iid_gamma_gaussian(K, N, d, alpha_true, beta_true, R_true)\n",
    "alpha_hat, beta_hat = fit_gamma_marginals(X_list)\n",
    "Z_list = list()\n",
    "for X in X_list:\n",
    "    Z_trial = transform_to_z(X, alpha_hat, beta_hat)\n",
    "    Z_list.append(Z_trial)\n",
    "Sigma, R = estimate_covariance(Z_list)\n",
    "R_hat = R[0:d,0:d]\n",
    "print(R_hat)\n",
    "print(alpha_hat)\n",
    "print(beta_hat)\n",
    "print(R[d:2*d,d:2*d])"
   ]
  },
  {
   "cell_type": "code",
   "execution_count": null,
   "id": "c512007d",
   "metadata": {},
   "outputs": [],
   "source": []
  }
 ],
 "metadata": {
  "kernelspec": {
   "display_name": "base",
   "language": "python",
   "name": "python3"
  },
  "language_info": {
   "codemirror_mode": {
    "name": "ipython",
    "version": 3
   },
   "file_extension": ".py",
   "mimetype": "text/x-python",
   "name": "python",
   "nbconvert_exporter": "python",
   "pygments_lexer": "ipython3",
   "version": "3.13.5"
  }
 },
 "nbformat": 4,
 "nbformat_minor": 5
}
