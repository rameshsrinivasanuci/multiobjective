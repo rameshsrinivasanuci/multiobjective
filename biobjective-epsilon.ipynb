{
 "cells": [
  {
   "cell_type": "code",
   "execution_count": 8,
   "id": "a0cf691e",
   "metadata": {},
   "outputs": [],
   "source": [
    "import itertools\n",
    "import pulp\n",
    "import matplotlib.pyplot as plt\n",
    "from numpy import random\n",
    "import numpy as np\n",
    "rng = random.default_rng(42)  # For reproducibility"
   ]
  },
  {
   "cell_type": "code",
   "execution_count": null,
   "id": "98fb9c85",
   "metadata": {},
   "outputs": [],
   "source": [
    "#simulated data beed to replace with generalized dirichlet samples\n",
    "profit1 = rng.integers(50,100,20)\n",
    "profit2 = rng.integers(50,100,20)\n",
    "weight = rng.integers(1,50,20)\n",
    "capacity = 250\n",
    "N = len(profit1)"
   ]
  },
  {
   "cell_type": "code",
   "execution_count": 10,
   "id": "80b5e554",
   "metadata": {},
   "outputs": [],
   "source": [
    "# single-objective reference points\n",
    "# 1. Maximize profit 1\n",
    "model_p1 = pulp.LpProblem(\"max_profit1\", pulp.LpMaximize)\n",
    "x_p1 = pulp.LpVariable.dicts(\"x\", range(N), cat=\"Binary\")\n",
    "model_p1 += pulp.lpSum(profit1[i]*x_p1[i] for i in range(N))\n",
    "model_p1 += pulp.lpSum(weight[i]*x_p1[i] for i in range(N)) <= capacity\n",
    "model_p1.solve(pulp.PULP_CBC_CMD(msg=0))\n",
    "max_p1 = pulp.value(model_p1.objective)\n",
    "choices_p1 = [i for i in range(N) if x_p1[i].value() > 0.5]\n",
    "# 2. Maximize profit2\n",
    "model_p2 = pulp.LpProblem(\"max_profit2\", pulp.LpMaximize)\n",
    "x_p2 = pulp.LpVariable.dicts(\"x\", range(N), cat=\"Binary\")\n",
    "model_p2 += pulp.lpSum(profit2[i]*x_p2[i] for i in range(N))\n",
    "model_p2 += pulp.lpSum(weight[i]*x_p2[i] for i in range(N)) <= capacity\n",
    "model_p2.solve(pulp.PULP_CBC_CMD(msg=0))\n",
    "max_p2 = pulp.value(model_p2.objective)"
   ]
  },
  {
   "cell_type": "code",
   "execution_count": 11,
   "id": "d6cea32c",
   "metadata": {},
   "outputs": [],
   "source": [
    "\n",
    "# ε-constraint baselibe.  for any value of profit 2 maxinimize profit 1\n",
    "p1_val = []\n",
    "p2_val = []\n",
    "solutions = []\n",
    "\n",
    "eps = 0\n",
    "model = pulp.LpProblem(f\"eps_{eps:.1f}\", pulp.LpMaximize)\n",
    "x = pulp.LpVariable.dicts(\"x\", range(N), cat=\"Binary\")\n",
    "model += pulp.lpSum(profit1[i]*x[i] for i in range(N))\n",
    "model += pulp.lpSum(profit2[i]*x[i] for i in range(N)) >= eps\n",
    "model += pulp.lpSum(weight[i]*x[i] for i in range(N)) <= capacity\n",
    "model.solve(pulp.PULP_CBC_CMD(msg=0))\n",
    "if model.status == 1:  # optimal\n",
    "    p1_val.append(pulp.value(model.objective))\n",
    "    p2_val.append(sum(profit2[i]*x[i].value() for i in range(N)))\n",
    "    choices = [i for i in range(N) if x[i].value() > 0.5]\n",
    "    solutions.append(choices)"
   ]
  },
  {
   "cell_type": "code",
   "execution_count": 12,
   "id": "6149c57a",
   "metadata": {},
   "outputs": [],
   "source": [
    "num_steps = 100\n",
    "\n",
    "# ε-constraint loop: for different ε thresholds on profit2, maximize profit1\n",
    "\n",
    "for eps in [max_p2 * i / num_steps for i in range(1, num_steps + 1)]:\n",
    "    model = pulp.LpProblem(f\"eps_{eps:.1f}\", pulp.LpMaximize)\n",
    "    x = pulp.LpVariable.dicts(\"x\", range(N), cat=\"Binary\")\n",
    "    model += pulp.lpSum(profit1[i]*x[i] for i in range(N))\n",
    "    model += pulp.lpSum(profit2[i]*x[i] for i in range(N)) >= eps\n",
    "    model += pulp.lpSum(weight[i]*x[i] for i in range(N)) <= capacity\n",
    "    model.solve(pulp.PULP_CBC_CMD(msg=0))\n",
    "    if model.status == 1:  # optimal\n",
    "        p1_val.append(pulp.value(model.objective))\n",
    "        p2_val.append(sum(profit2[i]*x[i].value() for i in range(N)))\n",
    "        choices = [i for i in range(N) if x[i].value() > 0.5]\n",
    "        solutions.append(choices)\n",
    "\n"
   ]
  },
  {
   "cell_type": "code",
   "execution_count": 13,
   "id": "85fa477d",
   "metadata": {},
   "outputs": [],
   "source": [
    "solutions = np.array(solutions);\n",
    "unique_solutions, indices = np.unique(solutions, axis=0, return_index=True)\n",
    "p1_val = np.array(p1_val)[indices]\n",
    "p2_val = np.array(p2_val)[indices]"
   ]
  },
  {
   "cell_type": "code",
   "execution_count": 14,
   "id": "e93ac8b0",
   "metadata": {},
   "outputs": [
    {
     "name": "stdout",
     "output_type": "stream",
     "text": [
      "Found 4 Pareto solutions:\n",
      "\n",
      " 0: Profit1 = 950.0, Profit2 = 1013.0, Items = [ 0  1  2  3  4  6 11 12 13 14 15 17 18]\n",
      " 1: Profit1 = 1011.0, Profit2 = 999.0, Items = [ 0  1  3  4  6  7 11 12 13 14 15 16 17]\n",
      " 2: Profit1 = 983.0, Profit2 = 1006.0, Items = [ 0  1  3  4  6 11 12 13 14 15 16 17 18]\n",
      " 3: Profit1 = 1024.0, Profit2 = 983.0, Items = [ 0  3  4  6  7 11 12 13 14 15 16 17 19]\n"
     ]
    },
    {
     "data": {
      "image/png": "[encoded data removed]",
      "text/plain": [
       "<Figure size 600x600 with 1 Axes>"
      ]
     },
     "metadata": {},
     "output_type": "display_data"
    }
   ],
   "source": [
    "\n",
    "# Display results\n",
    "print(f\"Found {len(unique_solutions)} Pareto solutions:\\n\")\n",
    "for idx,choices in enumerate(unique_solutions):\n",
    "    print(f\"{idx:2d}: Profit1 = {p1_val[idx]:.1f}, Profit2 = {p2_val[idx]:.1f}, Items = {choices}\")\n",
    "\n",
    "# Plot objective space\n",
    "plt.figure(figsize=(6,6))\n",
    "plt.scatter(p1_val, p2_val, c='blue', marker='o', label='Pareto front')\n",
    "plt.xlabel(\"Profit1\")\n",
    "plt.ylabel(\"Profit2\")\n",
    "plt.title(\"Pareto front (ε‑constraint)\")\n",
    "plt.show()\n"
   ]
  }
 ],
 "metadata": {
  "kernelspec": {
   "display_name": "moo",
   "language": "python",
   "name": "python3"
  },
  "language_info": {
   "codemirror_mode": {
    "name": "ipython",
    "version": 3
   },
   "file_extension": ".py",
   "mimetype": "text/x-python",
   "name": "python",
   "nbconvert_exporter": "python",
   "pygments_lexer": "ipython3",
   "version": "3.12.7"
  }
 },
 "nbformat": 4,
 "nbformat_minor": 5
}
