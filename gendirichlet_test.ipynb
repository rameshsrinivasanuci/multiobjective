{
 "cells": [
  {
   "cell_type": "code",
   "execution_count": 1,
   "id": "15c62ea8",
   "metadata": {},
   "outputs": [],
   "source": [
    "import numpy as np\n",
    "from multitools import generalized_dirichlet"
   ]
  },
  {
   "cell_type": "code",
   "execution_count": 2,
   "id": "685f6839",
   "metadata": {},
   "outputs": [],
   "source": [
    "x = generalized_dirichlet(10, 3,[10, 25, 5], [5, 5, 5])\n",
    "y=  np.corrcoef(x.T)"
   ]
  },
  {
   "cell_type": "code",
   "execution_count": 3,
   "id": "29d8059b",
   "metadata": {},
   "outputs": [
    {
     "name": "stdout",
     "output_type": "stream",
     "text": [
      "[[ 1.         -0.98868366 -0.44480998]\n",
      " [-0.98868366  1.          0.30541884]\n",
      " [-0.44480998  0.30541884  1.        ]]\n"
     ]
    }
   ],
   "source": [
    "print(y)"
   ]
  }
 ],
 "metadata": {
  "kernelspec": {
   "display_name": "moo",
   "language": "python",
   "name": "python3"
  },
  "language_info": {
   "codemirror_mode": {
    "name": "ipython",
    "version": 3
   },
   "file_extension": ".py",
   "mimetype": "text/x-python",
   "name": "python",
   "nbconvert_exporter": "python",
   "pygments_lexer": "ipython3",
   "version": "3.12.7"
  }
 },
 "nbformat": 4,
 "nbformat_minor": 5
}
